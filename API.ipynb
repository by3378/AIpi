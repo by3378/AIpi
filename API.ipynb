{
 "cells": [
  {
   "cell_type": "markdown",
   "id": "b0e4e6f1",
   "metadata": {},
   "source": [
    "# [API](https://bailian.console.aliyun.com/?tab=api#/api/?type=model&url=2712576)调用 \n",
    "\n",
    "----\n",
    "\n",
    "- Temperature：调高 temperature 会增加其他可能的 token 的权重，导致更随机（或者说，可能更有创造性）的结果。  \n",
    "- Top_p：Top P意味着只有词元集合（tokens）中包含top_p概率质量的才会被考虑用于响应，因此较低的top_p值会选择最有信心的响应（更低的多样性）。\n",
    "\n",
    "> 一般建议只改变 Temperature 和 Top P 其中之一。\n",
    "\n",
    "- Max Length：控制生成的 token 数。有助于防止大模型生成冗长或不相关的响应并控制成本。  \n",
    "- Stop Sequences：指定 stop sequences 是控制大模型响应长度和结构的另一种方法。输出停止由特定字符串的出现触发。\n",
    "\n",
    "> 避免说太多，利于格式化输出。\n",
    "\n",
    "- Frequency Penalty：减少响应中单词的重复，惩罚和 token 出现次数成比例。  \n",
    "- Presence Penalty：该惩罚与token的重复次数无关。施加惩罚会导致更多样（更不专注）的内容。\n",
    "\n",
    "> 一般建议只改变 frequency penalty 和 presence penalty 其中之一。\n",
    "\n",
    "----\n",
    "\n",
    "#### 示例代码1 普通使用"
   ]
  },
  {
   "cell_type": "code",
   "execution_count": null,
   "id": "4c2959ce",
   "metadata": {},
   "outputs": [
    {
     "name": "stdout",
     "output_type": "stream",
     "text": [
      "{\"id\":\"chatcmpl-3e6de4b9-962c-4f9d-a1ac-247c3a8a571a\",\"choices\":[{\"finish_reason\":\"stop\",\"index\":0,\"logprobs\":null,\"message\":{\"content\":\"我是通义千问，阿里巴巴集团旗下的超大规模语言模型。我能够回答问题、创作文字，比如写故事、写公文、写邮件、写剧本、逻辑推理、编程等等，还能表达观点，玩游戏等。如果你有任何问题或需要帮助，欢迎随时告诉我！\",\"refusal\":null,\"role\":\"assistant\",\"annotations\":null,\"audio\":null,\"function_call\":null,\"tool_calls\":null}}],\"created\":1758378348,\"model\":\"qwen-plus\",\"object\":\"chat.completion\",\"service_tier\":null,\"system_fingerprint\":null,\"usage\":{\"completion_tokens\":60,\"prompt_tokens\":22,\"total_tokens\":82,\"completion_tokens_details\":null,\"prompt_tokens_details\":{\"audio_tokens\":null,\"cached_tokens\":0}}}\n",
      "我是通义千问，阿里巴巴集团旗下的超大规模语言模型。我能够回答问题、创作文字，比如写故事、写公文、写邮件、写剧本、逻辑推理、编程等等，还能表达观点，玩游戏等。如果你有任何问题或需要帮助，欢迎随时告诉我！\n"
     ]
    }
   ],
   "source": [
    "import os\n",
    "from openai import OpenAI\n",
    "from dotenv import load_dotenv\n",
    "\n",
    "# 加载 .env 文件中的环境变量\n",
    "load_dotenv()\n",
    "\n",
    "client = OpenAI(\n",
    "    # 若没有配置环境变量，请用百炼API Key将下行替换为：api_key=\"sk-xxx\",\n",
    "    api_key=os.getenv(\"DASHSCOPE_API_KEY\"),\n",
    "    base_url=\"https://dashscope.aliyuncs.com/compatible-mode/v1\",\n",
    ")\n",
    "\n",
    "completion = client.chat.completions.create(\n",
    "    # 模型列表：https://help.aliyun.com/zh/model-studio/getting-started/models\n",
    "    model=\"qwen-plus\",\n",
    "    messages=[\n",
    "        {\"role\": \"system\", \"content\": \"You are a helpful assistant.\"},\n",
    "        {\"role\": \"user\", \"content\": \"你是谁？\"},\n",
    "    ],\n",
    "    # Qwen3模型通过enable_thinking参数控制思考过程（开源版默认True，商业版默认False）\n",
    "    # 使用Qwen3开源版模型时，若未启用流式输出，请将下行取消注释，否则会报错\n",
    "    # extra_body={\"enable_thinking\": False},\n",
    ")\n",
    "print(completion.model_dump_json())\n",
    "\n",
    "print(completion.choices[0].message.content)"
   ]
  },
  {
   "cell_type": "code",
   "execution_count": null,
   "id": "ac675934",
   "metadata": {},
   "outputs": [],
   "source": [
    "{\n",
    "\"id\":\"chatcmpl-3e6de4b9-962c-4f9d-a1ac-247c3a8a571a\",\n",
    "\"choices\":[\n",
    "    {\n",
    "    \"finish_reason\":\"stop\", # 生成结束原因（遇到了结束标记，正常结束，未达最大长度或被过滤）\n",
    "    \"index\":0,              # 当前回复在 choices 列表中的序号（默认生成一个回复）\n",
    "    \"logprobs\":null,        # 生成时每个token的对数概率（如未开启概率输出则为null）\n",
    "    \"message\":{\n",
    "        \"content\":\"我是通义千问，阿里巴巴集团旗下的超大规模语言模型。我能够回答问题、创作文字，比如写故事、写公文、写邮件、写剧本、逻辑推理、编程等等，还能表达观点，玩游戏等。如果你有任何问题或需要帮助，欢迎随时告诉我！\",\n",
    "        \"refusal\":null,     # 如果模型拒答，这里会有拒答原因\n",
    "        \"role\":\"assistant\",\n",
    "        \"annotations\":null, # 回复的附加注释\n",
    "        \"audio\":null,\n",
    "        \"function_call\":null,\n",
    "        \"tool_calls\":null}\n",
    "    }\n",
    "          ],\n",
    "\n",
    "\"created\":1758378348,       # 回复生成的时间戳（秒级，通常为UNIX时间）\n",
    "                            # 自1970年1月1日0时0分0秒（UTC）到生成回复时所经过的秒数。\n",
    "\"model\":\"qwen-plus\",\n",
    "\"object\":\"chat.completion\", # 返回对象类型（如 chat.completion 表示对话生成结果）\n",
    "                            # \"chat.completion\"、\"text.completion\"、\"image.generation\"、\"function.call\"\n",
    "\"service_tier\":null,        # 服务等级\n",
    "\"system_fingerprint\":null,  # 系统指纹\n",
    "\"usage\":{\n",
    "    \"completion_tokens\":60, # 本次回复生成的 token 数量\n",
    "    \"prompt_tokens\":22,     # 输入提示词的 token 数量\n",
    "    \"total_tokens\":82,      # 总共消耗的 token 数量（输入+输出）\n",
    "    \"completion_tokens_details\":null,   # 生成token的详细信息\n",
    "    \"prompt_tokens_details\":{  # 输入token的详细信息\n",
    "        \"audio_tokens\":null,   # 没有音频相关的 token\n",
    "        \"cached_tokens\":0}     # 没有使用缓存的 token\n",
    "    }\n",
    "}"
   ]
  },
  {
   "cell_type": "markdown",
   "id": "6a33cfca",
   "metadata": {},
   "source": [
    "#### 示例代码2 异步调用"
   ]
  },
  {
   "cell_type": "code",
   "execution_count": 1,
   "id": "c36f1341",
   "metadata": {},
   "outputs": [
    {
     "name": "stdout",
     "output_type": "stream",
     "text": [
      "{\"id\":\"chatcmpl-9c789008-9e51-4f22-b075-7e32ddc3be9c\",\"choices\":[{\"finish_reason\":\"stop\",\"index\":0,\"logprobs\":null,\"message\":{\"content\":\"我是通义千问，阿里巴巴集团旗下的超大规模语言模型。我能够回答问题、创作文字，如写故事、公文、邮件、剧本等，还能进行逻辑推理、编程，表达观点，玩游戏等。我支持多种语言，包括但不限于中文、英文、德语、法语、西班牙语等。如果你有任何问题或需要帮助，欢迎随时告诉我！\",\"refusal\":null,\"role\":\"assistant\",\"annotations\":null,\"audio\":null,\"function_call\":null,\"tool_calls\":null}}],\"created\":1758937054,\"model\":\"qwen-plus\",\"object\":\"chat.completion\",\"service_tier\":null,\"system_fingerprint\":null,\"usage\":{\"completion_tokens\":79,\"prompt_tokens\":10,\"total_tokens\":89,\"completion_tokens_details\":null,\"prompt_tokens_details\":{\"audio_tokens\":null,\"cached_tokens\":0}}}\n"
     ]
    }
   ],
   "source": [
    "import os\n",
    "import asyncio\n",
    "from openai import AsyncOpenAI  # 异步版\n",
    "import platform\n",
    "\n",
    "client = AsyncOpenAI(\n",
    "    # 若没有配置环境变量，请用百炼API Key将下行替换为：api_key=\"sk-xxx\",\n",
    "    api_key=os.getenv(\"DASHSCOPE_API_KEY\"),\n",
    "    base_url=\"https://dashscope.aliyuncs.com/compatible-mode/v1\",\n",
    ")\n",
    "\n",
    "async def main():\n",
    "    response = await client.chat.completions.create(\n",
    "        messages=[{\"role\": \"user\", \"content\": \"你是谁\"}],\n",
    "        model=\"qwen-plus\",  # 此处以qwen-plus为例，可按需更换模型名称。模型列表：https://help.aliyun.com/zh/model-studio/getting-started/models\n",
    "    )\n",
    "    return response.model_dump_json()\n",
    "\n",
    "# asyncio.run(main())\n",
    "result = await main()\n",
    "print(result)"
   ]
  },
  {
   "cell_type": "markdown",
   "id": "68a46c27",
   "metadata": {},
   "source": [
    "#### 示例代码3、4 联网与流式输出"
   ]
  },
  {
   "cell_type": "code",
   "execution_count": null,
   "id": "33530712",
   "metadata": {},
   "outputs": [
    {
     "name": "stdout",
     "output_type": "stream",
     "text": [
      "<class 'openai.Stream'>\n",
      "根据2024年巴黎奥运会的最终成绩，中国体育代表团共获得了**40枚金牌**。\n",
      "\n",
      "此外，中国队还获得了27枚银牌和24枚铜牌，总计91枚奖牌。这一成绩创造了中国境外参加奥运会的最佳战绩，并且在金牌榜上与美国并列第一。"
     ]
    }
   ],
   "source": [
    "import os\n",
    "from openai import OpenAI\n",
    "\n",
    "client = OpenAI(\n",
    "    # 若没有配置环境变量，请用百炼API Key将下行替换为：api_key=\"sk-xxx\",\n",
    "    api_key=os.getenv(\"DASHSCOPE_API_KEY\"),\n",
    "    base_url=\"https://dashscope.aliyuncs.com/compatible-mode/v1\",\n",
    ")\n",
    "completion = client.chat.completions.create(\n",
    "    model=\"qwen-plus\",  # 此处以qwen-plus为例，可按需更换模型名称。模型列表：https://help.aliyun.com/zh/model-studio/getting-started/models\n",
    "    messages=[\n",
    "        {'role': 'system', 'content': 'You are a helpful assistant.'},\n",
    "        {'role': 'user', 'content': '中国队在巴黎奥运会获得了多少枚金牌'}],\n",
    "    extra_body={\n",
    "        \"enable_search\": True\n",
    "    },                  # 联网搜索\n",
    "\n",
    "    stream=True,        # 启用流式输出，边生成边返回内容\n",
    "    stream_options={\"include_usage\": True}  # 在流式输出时也返回用量统计信息\n",
    "    )\n",
    "\n",
    "print(type(completion))\n",
    "\n",
    "#for chunk in completion:\n",
    "#    print(chunk.model_dump_json())\n",
    "\n",
    "for chunk in completion:\n",
    "    if hasattr(chunk, \"choices\") and chunk.choices and hasattr(chunk.choices[0], \"delta\"):\n",
    "        # 安全地从 delta 中获取 content 属性，没有则返回None，不会因属性不存在而报错\n",
    "        content = getattr(chunk.choices[0].delta, \"content\", None)\n",
    "        if content:\n",
    "            print(content, end=\"\", flush=True)  # 强制刷新缓冲区"
   ]
  }
 ],
 "metadata": {
  "kernelspec": {
   "display_name": "concuda",
   "language": "python",
   "name": "python3"
  },
  "language_info": {
   "codemirror_mode": {
    "name": "ipython",
    "version": 3
   },
   "file_extension": ".py",
   "mimetype": "text/x-python",
   "name": "python",
   "nbconvert_exporter": "python",
   "pygments_lexer": "ipython3",
   "version": "3.10.18"
  }
 },
 "nbformat": 4,
 "nbformat_minor": 5
}
