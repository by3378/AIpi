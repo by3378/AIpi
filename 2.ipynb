{
 "cells": [
  {
   "cell_type": "markdown",
   "id": "17dd198f",
   "metadata": {},
   "source": [
    "# Task 2 预训练模型\n",
    "\n",
    "## 前置知识\n",
    "\n",
    "[GPT3](./Language%20Models%20are%20Few-Shot%20Learners.md)\n",
    "\n",
    "1. **预训练-微调范式 :**\n",
    "\n",
    "\t- **预训练 (Pre-training):** 理解其本质是在海量无标签文本上进行自监督学习。\n",
    "\n",
    "\t预训练：在进行具体任务前在海量无标签数据上学习通用知识。  \n",
    "   自监督：无标注，随机遮盖（BERT）或预测下一个词（GPT）。\n",
    "\n",
    "\t- **微调 (Fine-tuning):** 掌握如何在一个预训练好的模型基础上，利用少量有标签的下游任务数据来调整模型参数，使其适配特定任务。\n",
    "\n",
    "\t在预训练模型的基础上，根据少量标注数据训练几轮，小幅度更新（部分）参数。\n",
    "\n",
    "----\n",
    "\n",
    "2. **主流预训练模型架构:**\n",
    "\t- 熟悉预训练模型的三种常见架构：Encoder-Only，Decoder-Only 以及 Encoder-decoder。了解他们的特点，常见的应用场景以及经典模型。\n",
    "\n",
    "- **Encoder-Only（仅编码器）**  \n",
    "   - 特点：只包含编码器部分，适合处理整段输入，关注上下文理解。  \n",
    "   - 应用场景：文本分类等。  \n",
    "   - 经典模型：[BERT](./BERT.md)。\n",
    "\n",
    "- **Decoder-Only（仅解码器）**  \n",
    "   - 特点：只包含解码器部分，适合生成式任务，逐步生成输出。  \n",
    "   - 应用场景：文本生成等。  \n",
    "   - 经典模型：GPT。\n",
    "\n",
    "- **Encoder-Decoder（编码器-解码器）**  [Attention](./Attention%20is%20All%20You%20Need.md)\n",
    "   - 特点：输入由编码器处理，输出由解码器生成，适合输入到输出的映射任务。  \n",
    "   - 应用场景：机器翻译等。  \n",
    "   - 经典模型：BART、T5。\n",
    "\n",
    "----\n",
    "\n",
    "## 实践任务\n",
    "\n",
    "1. 基于与**Task1 相同**的数据集，使用 PyTorch 及开源预训练库，使用预训练的**BERT模型**完成文本分类微调，掌握预训练模型的调用与微调核心流程。\n",
    "2. 比较部分冻结层和全量微调的区别。\n",
    "\n",
    "### 分词器"
   ]
  },
  {
   "cell_type": "code",
   "execution_count": 1,
   "id": "189f2193",
   "metadata": {},
   "outputs": [
    {
     "name": "stdout",
     "output_type": "stream",
     "text": [
      "{'input_ids': [[101, 872, 1962, 8024, 686, 4518, 102, 0, 0, 0], [101, 2769, 3221, 702, 3683, 6772, 7270, 4638, 1368, 102]], 'token_type_ids': [[0, 0, 0, 0, 0, 0, 0, 0, 0, 0], [0, 0, 0, 0, 0, 0, 0, 0, 0, 0]], 'attention_mask': [[1, 1, 1, 1, 1, 1, 1, 0, 0, 0], [1, 1, 1, 1, 1, 1, 1, 1, 1, 1]]}\n",
      "{'input_ids': [101, 872, 1962, 511, 102, 872, 738, 1962, 511, 102], 'token_type_ids': [0, 0, 0, 0, 0, 1, 1, 1, 1, 1], 'attention_mask': [1, 1, 1, 1, 1, 1, 1, 1, 1, 1]}\n"
     ]
    }
   ],
   "source": [
    "from transformers import BertTokenizer\n",
    "tokenizer = BertTokenizer.from_pretrained('bert-base-chinese') # BERT分词器\n",
    "# padding=True: pad 到当前 batch 最长\n",
    "result = tokenizer([\"你好，  世界\", \"我是个比较长的句子。\"], padding=True, truncation=True, max_length=10)\n",
    "print(result)\n",
    "result = tokenizer(\"你好。\", \"你也好。\", padding=True, truncation=True, max_length=10)\n",
    "print(result)"
   ]
  },
  {
   "cell_type": "code",
   "execution_count": null,
   "id": "9076518b",
   "metadata": {},
   "outputs": [],
   "source": [
    "{'input_ids': [[101, 872, 1962, 8024, 686, 4518, 102, 0, 0, 0],  # BERT词表ID\n",
    "               [101, 2769, 3221, 702, 3683, 6772, 7270, 4638, 1368, 102]], \n",
    " 'token_type_ids': [[0, 0, 0, 0, 0, 0, 0, 0, 0, 0], \n",
    "                    [0, 0, 0, 0, 0, 0, 0, 0, 0, 0]],      # 句子类型标记，单句为0，问答为0、1\n",
    " 'attention_mask': [[1, 1, 1, 1, 1, 1, 1, 0, 0, 0], \n",
    "                    [1, 1, 1, 1, 1, 1, 1, 1, 1, 1]]}      # 注意力掩码，1表示有效token，0表示padding\n",
    "\n",
    "\n",
    "{'input_ids': [101, 872, 1962, 511, 102, 872, 738, 1962, 511, 102], \n",
    " 'token_type_ids': [0, 0, 0, 0, 0, 1, 1, 1, 1, 1], \n",
    " 'attention_mask': [1, 1, 1, 1, 1, 1, 1, 1, 1, 1]}"
   ]
  },
  {
   "cell_type": "code",
   "execution_count": 1,
   "id": "7816de3a",
   "metadata": {},
   "outputs": [
    {
     "name": "stderr",
     "output_type": "stream",
     "text": [
      "Some weights of BertForSequenceClassification were not initialized from the model checkpoint at bert-base-chinese and are newly initialized: ['classifier.bias', 'classifier.weight']\n",
      "You should probably TRAIN this model on a down-stream task to be able to use it for predictions and inference.\n"
     ]
    },
    {
     "data": {
      "text/html": [
       "\n",
       "    <div>\n",
       "      \n",
       "      <progress value='447' max='447' style='width:300px; height:20px; vertical-align: middle;'></progress>\n",
       "      [447/447 00:35, Epoch 3/3]\n",
       "    </div>\n",
       "    <table border=\"1\" class=\"dataframe\">\n",
       "  <thead>\n",
       " <tr style=\"text-align: left;\">\n",
       "      <th>Epoch</th>\n",
       "      <th>Training Loss</th>\n",
       "      <th>Validation Loss</th>\n",
       "      <th>Accuracy</th>\n",
       "      <th>F1</th>\n",
       "    </tr>\n",
       "  </thead>\n",
       "  <tbody>\n",
       "    <tr>\n",
       "      <td>1</td>\n",
       "      <td>0.508400</td>\n",
       "      <td>0.419306</td>\n",
       "      <td>0.851805</td>\n",
       "      <td>0.507892</td>\n",
       "    </tr>\n",
       "    <tr>\n",
       "      <td>2</td>\n",
       "      <td>0.353000</td>\n",
       "      <td>0.431198</td>\n",
       "      <td>0.847187</td>\n",
       "      <td>0.498364</td>\n",
       "    </tr>\n",
       "    <tr>\n",
       "      <td>3</td>\n",
       "      <td>0.200700</td>\n",
       "      <td>0.411323</td>\n",
       "      <td>0.878254</td>\n",
       "      <td>0.522433</td>\n",
       "    </tr>\n",
       "  </tbody>\n",
       "</table><p>"
      ],
      "text/plain": [
       "<IPython.core.display.HTML object>"
      ]
     },
     "metadata": {},
     "output_type": "display_data"
    },
    {
     "data": {
      "text/html": [
       "\n",
       "    <div>\n",
       "      \n",
       "      <progress value='149' max='149' style='width:300px; height:20px; vertical-align: middle;'></progress>\n",
       "      [149/149 00:02]\n",
       "    </div>\n",
       "    "
      ],
      "text/plain": [
       "<IPython.core.display.HTML object>"
      ]
     },
     "metadata": {},
     "output_type": "display_data"
    },
    {
     "data": {
      "text/plain": [
       "{'eval_loss': 0.41132330894470215,\n",
       " 'eval_accuracy': 0.8782535684298909,\n",
       " 'eval_f1': 0.5224328987926329,\n",
       " 'eval_runtime': 2.2584,\n",
       " 'eval_samples_per_second': 1054.745,\n",
       " 'eval_steps_per_second': 65.977,\n",
       " 'epoch': 3.0}"
      ]
     },
     "execution_count": 1,
     "metadata": {},
     "output_type": "execute_result"
    }
   ],
   "source": [
    "from transformers import BertTokenizer, BertForSequenceClassification, Trainer, TrainingArguments\n",
    "import torch\n",
    "from torch.utils.data import Dataset\n",
    "import pandas as pd\n",
    "from modelscope.msdatasets import MsDataset\n",
    "\n",
    "\n",
    "ds = MsDataset.load('chqingMS/game_chat')\n",
    "train_data = pd.DataFrame([x for x in ds['train']])\n",
    "val_data = pd.DataFrame([x for x in ds['validation']])\n",
    "train_labels = train_data['label'].tolist()\n",
    "val_labels = val_data['label'].tolist()\n",
    "train_texts = train_data['sentence'].tolist()\n",
    "val_texts = val_data['sentence'].tolist()\n",
    "label2id = {l: i for i, l in enumerate(sorted(set(train_labels)))}\n",
    "train_y = [label2id[l] for l in train_labels]\n",
    "val_y = [label2id[l] for l in val_labels]\n",
    "\n",
    "tokenizer = BertTokenizer.from_pretrained('bert-base-chinese')\n",
    "\n",
    "class BertDataset(Dataset):\n",
    "    def __init__(self, texts, labels):\n",
    "        self.encodings = tokenizer(texts, truncation=True, padding=True, max_length=30)\n",
    "        self.labels = torch.tensor(labels)\n",
    "    def __getitem__(self, idx):\n",
    "        item = {key: torch.tensor(val[idx]) for key, val in self.encodings.items()}\n",
    "        item['labels'] = self.labels[idx]\n",
    "        return item\n",
    "    def __len__(self):\n",
    "        return len(self.labels)\n",
    "\n",
    "train_dataset = BertDataset(train_texts, train_y)\n",
    "val_dataset = BertDataset(val_texts, val_y)\n",
    "\n",
    "model = BertForSequenceClassification.from_pretrained('bert-base-chinese', num_labels=len(label2id))\n",
    "# 冻结 BERT 前六层参数 参数名示例 encoder.layer.3.attention.self.query.weight\n",
    "for name, param in model.bert.named_parameters():\n",
    "    if name.startswith(\"encoder.layer.\") and int(name.split(\".\")[2]) < 6:\n",
    "        param.requires_grad = False\n",
    "\n",
    "training_args = TrainingArguments(\n",
    "    output_dir='./bert_output',\n",
    "    num_train_epochs=3,\n",
    "    per_device_train_batch_size=16, # 每个设备上的训练批大小\n",
    "    per_device_eval_batch_size=16,  # 每个设备上的验证批大小\n",
    "    eval_strategy='epoch',          # 每个epoch评估一次\n",
    "    logging_dir='./bert_logs',\n",
    "    logging_steps=50,               # 每50步记录日志\n",
    "    save_strategy='epoch',          # 每个epoch保存模型\n",
    "    load_best_model_at_end=True,    # 训练结束后加载最佳模型\n",
    "    metric_for_best_model='eval_accuracy',  # 选择最佳模型的评估指标\n",
    "    report_to=[],  # 关闭wandb等外部日志\n",
    ")\n",
    "\n",
    "# 评估函数\n",
    "def compute_metrics(eval_pred): # 元组 (logits, labels)\n",
    "    logits, labels = eval_pred  # logits: [batch_size, num_classes]\n",
    "    preds = logits.argmax(axis=-1)\n",
    "    from sklearn.metrics import accuracy_score, f1_score\n",
    "    return {\n",
    "        'accuracy': accuracy_score(labels, preds),\n",
    "        'f1': f1_score(labels, preds, average='macro')\n",
    "    }\n",
    "\n",
    "trainer = Trainer(\n",
    "    model=model,\n",
    "    args=training_args,\n",
    "    train_dataset=train_dataset,\n",
    "    eval_dataset=val_dataset,\n",
    "    compute_metrics=compute_metrics\n",
    ")\n",
    "\n",
    "trainer.train()\n",
    "trainer.evaluate()"
   ]
  },
  {
   "cell_type": "markdown",
   "id": "2a11e663",
   "metadata": {},
   "source": [
    "| 微调方式         | Epoch | Training Loss | Validation Loss | Accuracy | F1    |\n",
    "|------------------|-------|---------------|----------------|----------|-------|\n",
    "| 全量微调         |   1   |    0.481      |    0.390       | 0.868    | 0.517 |\n",
    "|                  |   2   |    0.266      |    0.419       | 0.879    | 0.520 |\n",
    "|                  |   3   |    0.153      |    0.428       | 0.891    | 0.530 |\n",
    "| 冻结前六层编码层   |   1   |   0.508       |   0.419        | 0.852    | 0.508 |\n",
    "|                  |   2   |   0.353       |   0.431        | 0.847    | 0.498 |\n",
    "|                  |   3   |   0.201       |   0.411        | 0.878    | 0.522 |"
   ]
  }
 ],
 "metadata": {
  "kernelspec": {
   "display_name": "concuda",
   "language": "python",
   "name": "python3"
  },
  "language_info": {
   "codemirror_mode": {
    "name": "ipython",
    "version": 3
   },
   "file_extension": ".py",
   "mimetype": "text/x-python",
   "name": "python",
   "nbconvert_exporter": "python",
   "pygments_lexer": "ipython3",
   "version": "3.10.18"
  }
 },
 "nbformat": 4,
 "nbformat_minor": 5
}
